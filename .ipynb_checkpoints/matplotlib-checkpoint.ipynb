{
 "cells": [
  {
   "cell_type": "code",
   "execution_count": 1,
   "metadata": {},
   "outputs": [],
   "source": [
    "## Import dependencies\n",
    "import pandas as pd \n",
    "import numpy as np\n",
    "import yfinance as yf\n",
    "import matplotlib.pyplot as plt\n",
    "from flask import Flask, jsonify, render_template\n",
    "from sklearn.linear_model import LinearRegression\n",
    "import yfinance as yf\n",
    "from pathlib import Path\n",
    "from pprint import pprint"
   ]
  },
  {
   "cell_type": "markdown",
   "metadata": {},
   "source": [
    "## Get our data: "
   ]
  },
  {
   "cell_type": "markdown",
   "metadata": {},
   "source": [
    "### - Pull historical data for the market using the yfinance python library\n",
    "### - Export the market historical data to a separate csv file in the folder labeled data_history_market"
   ]
  },
  {
   "cell_type": "code",
   "execution_count": 2,
   "metadata": {},
   "outputs": [
    {
     "name": "stdout",
     "output_type": "stream",
     "text": [
      "[*********************100%***********************]  1 of 1 completed\n"
     ]
    },
    {
     "data": {
      "text/html": [
       "<div>\n",
       "<style scoped>\n",
       "    .dataframe tbody tr th:only-of-type {\n",
       "        vertical-align: middle;\n",
       "    }\n",
       "\n",
       "    .dataframe tbody tr th {\n",
       "        vertical-align: top;\n",
       "    }\n",
       "\n",
       "    .dataframe thead th {\n",
       "        text-align: right;\n",
       "    }\n",
       "</style>\n",
       "<table border=\"1\" class=\"dataframe\">\n",
       "  <thead>\n",
       "    <tr style=\"text-align: right;\">\n",
       "      <th></th>\n",
       "      <th>Date</th>\n",
       "      <th>Close</th>\n",
       "    </tr>\n",
       "  </thead>\n",
       "  <tbody>\n",
       "    <tr>\n",
       "      <th>0</th>\n",
       "      <td>2011-01-03</td>\n",
       "      <td>1271.869995</td>\n",
       "    </tr>\n",
       "    <tr>\n",
       "      <th>1</th>\n",
       "      <td>2011-01-04</td>\n",
       "      <td>1270.199951</td>\n",
       "    </tr>\n",
       "    <tr>\n",
       "      <th>2</th>\n",
       "      <td>2011-01-05</td>\n",
       "      <td>1276.560059</td>\n",
       "    </tr>\n",
       "    <tr>\n",
       "      <th>3</th>\n",
       "      <td>2011-01-06</td>\n",
       "      <td>1273.849976</td>\n",
       "    </tr>\n",
       "    <tr>\n",
       "      <th>4</th>\n",
       "      <td>2011-01-07</td>\n",
       "      <td>1271.500000</td>\n",
       "    </tr>\n",
       "  </tbody>\n",
       "</table>\n",
       "</div>"
      ],
      "text/plain": [
       "        Date        Close\n",
       "0 2011-01-03  1271.869995\n",
       "1 2011-01-04  1270.199951\n",
       "2 2011-01-05  1276.560059\n",
       "3 2011-01-06  1273.849976\n",
       "4 2011-01-07  1271.500000"
      ]
     },
     "execution_count": 2,
     "metadata": {},
     "output_type": "execute_result"
    }
   ],
   "source": [
    "## Pull historical data for the market (market_ticker) using the yfinance python library\n",
    "## Loop through list of tickers to pull the daily closing price and date for the last 10 years for each ticker\n",
    "market_ticker = \"^GSPC\"\n",
    "market_history_data_df= yf.download(tickers = market_ticker, start=\"2011-01-01\")\n",
    "market_history_df = market_history_data_df[[\"Close\"]]\n",
    "market_history_df.reset_index(level=0, inplace=True)\n",
    "## Export the market historical data into it's own separate csv file\n",
    "market_history_df.to_csv(f\"resources/data_history_market/{market_ticker}.csv\")\n",
    "## Show first 5 rows of data frame\n",
    "market_history_df.head()"
   ]
  },
  {
   "cell_type": "markdown",
   "metadata": {},
   "source": [
    "### - Pull historical data for each stock (ticker) using the yfinance python library\n",
    "### - Export each stock's historical data to a separate csv file in the folder labeled data_history_stocks folder"
   ]
  },
  {
   "cell_type": "code",
   "execution_count": null,
   "metadata": {},
   "outputs": [],
   "source": [
    "##### DO NOT RUN THIS CELL UNLESS YOU NEED TO CREATE ALL THE CSVs OF HISTORICAL STOCK DATA FROM SCRACTH\n",
    "##### IF YOU ALREADY HAVE THE CSVS, PLEASE SKIP THIS CELL AND RUN THE NEXT CODE CELL BELOW INSTEAD\n",
    "\n",
    "## Pull historical data for each stock (stock_tickers) using the yfinance python library\n",
    "## Loop through list of tickers to pull the daily closing price and date for the last 10 years for each ticker\n",
    "stock_tickers = [\"ABT\", \"ABBV\", \"ABMD\", \"ACN\", \"ATVI\", \"ADBE\", \"AMD\", \"AAP\", \"AES\", \"AFL\", \"A\", \"APD\", \"AKAM\", \"ALK\", \"ALB\", \"ARE\", \"ALXN\", \"ALGN\", \"ALLE\", \"ALL\", \"AMZN\", \"AMCR\", \"AEE\", \"AAL\", \"AEP\", \"AXP\", \"AIG\", \"AMT\", \"AWK\", \"AMP\", \"ABC\", \"AME\", \"AMGN\", \"APH\", \"ADI\", \"ANSS\", \"ANTM\", \"AON\", \"AOS\", \"APA\", \"AAPL\", \"AMAT\", \"APT\", \"ADM\", \"ANET\", \"AJG\", \"AIZ\", \"ATO\", \"ADSK\", \"ADP\", \"AZO\", \"AVB\", \"AVY\", \"AVGO\", \"BKR\", \"BLL\", \"BAC\", \"BK\", \"BAX\", \"BDX\", \"BRK.B\", \"BBY\", \"BIO\", \"BIIB\", \"BLK\", \"BA\", \"BKNG\", \"BWA\", \"BXP\", \"BSX\", \"BMY\", \"BR\", \"BF.B\", \"BEN\", \"CHRW\", \"COG\", \"CDNS\", \"CZR\", \"CPB\", \"COF\", \"CAH\", \"CCL\", \"CARR\", \"CTLT\", \"CAT\", \"CBOE\", \"CBRE\", \"CDW\", \"CE\", \"CNC\", \"CNP\", \"CERN\", \"CF\", \"CRL\", \"CHTR\", \"CVX\", \"CMG\", \"CB\", \"CHD\", \"CI\", \"CINF\", \"CTAS\", \"CSCO\", \"C\", \"CFG\", \"CTXS\", \"CLX\", \"CME\", \"CMS\", \"CTSH\", \"CL\", \"CMCSA\", \"CMA\", \"CAG\", \"COP\", \"COO\", \"CPRT\", \"CTVA\", \"COST\", \"CCI\", \"CSX\", \"CMI\", \"CVS\", \"CRM\", \"DHI\", \"DHR\", \"DRI\", \"DVA\", \"DE\", \"DAL\", \"DVN\", \"DXCM\", \"DLR\", \"DFS\", \"DISCA\", \"DISCK\", \"DISH\", \"DG\", \"DLTR\", \"D\", \"DPZ\", \"DOV\", \"DOW\", \"DTE\", \"DUK\", \"DRE\", \"DD\", \"DXC\", \"DGX\", \"DIS\", \"ED\", \"EMN\", \"ETN\", \"EBAY\", \"ECL\", \"EIX\", \"EW\", \"EA\", \"EMR\", \"ENPH\", \"ETR\", \"EOG\", \"EFX\", \"EQIX\", \"EQR\", \"ESS\", \"EL\", \"ETSY\", \"EVRG\", \"ES\", \"EXC\", \"EXPE\", \"EXPD\", \"EXR\", \"FANG\", \"FFIV\", \"FB\", \"FAST\", \"FRT\", \"FDX\", \"FIS\", \"FITB\", \"FE\", \"FRC\", \"FISV\", \"FLT\", \"FMC\", \"F\", \"FTNT\", \"FTV\", \"FBHS\", \"FOXA\", \"FOX\", \"FCX\", \"GOOGL\", \"GOOG\", \"GLW\", \"GPS\", \"GRMN\", \"GNRC\", \"GD\", \"GE\", \"GIS\", \"GM\", \"GPC\", \"GILD\", \"GL\", \"GPN\", \"GS\", \"GWW\", \"HAL\", \"HBI\", \"HIG\", \"HAS\", \"HCA\", \"HSIC\", \"HSY\", \"HES\", \"HPE\", \"HLT\", \"HFC\", \"HOLX\", \"HD\", \"HON\", \"HRL\", \"HST\", \"HWM\", \"HPQ\", \"HUM\", \"HBAN\", \"HII\", \"IT\", \"IEX\", \"IDXX\", \"INFO\", \"ITW\", \"ILMN\", \"INCY\", \"IR\", \"INTC\", \"ICE\", \"IBM\", \"IP\", \"IPG\", \"IFF\", \"INTU\", \"ISRG\", \"IVZ\", \"IPGP\", \"IQV\", \"IRM\", \"JKHY\", \"J\", \"JBHT\", \"JNJ\", \"JCI\", \"JPM\", \"JNPR\", \"KMX\", \"KO\", \"KSU\", \"K\", \"KEY\", \"KEYS\", \"KMB\", \"KIM\", \"KMI\", \"KLAC\", \"KHC\", \"KR\", \"LNT\", \"LB\", \"LHX\", \"LH\", \"LRCX\", \"LW\", \"LVS\", \"LEG\", \"LDOS\", \"LEN\", \"LLY\", \"LNC\", \"LIN\", \"LYV\", \"LKQ\", \"LMT\", \"L\", \"LOW\", \"LUMN\", \"LYB\", \"LUV\", \"MMM\", \"MO\", \"MTB\", \"MRO\", \"MPC\", \"MKTX\", \"MAR\", \"MMC\", \"MLM\", \"MAS\", \"MA\", \"MKC\", \"MXIM\", \"MCD\", \"MCK\", \"MDT\", \"MRK\", \"MET\", \"MTD\", \"MGM\", \"MCHP\", \"MU\", \"MSFT\", \"MAA\", \"MHK\", \"MDLZ\", \"MPWR\", \"MNST\", \"MCO\", \"MS\", \"MOS\", \"MSI\", \"MSCI\", \"NDAQ\", \"NTAP\", \"NFLX\", \"NWL\", \"NEM\", \"NWSA\", \"NWS\", \"NEE\", \"NLSN\", \"NKE\", \"NI\", \"NSC\", \"NTRS\", \"NOC\", \"NLOK\", \"NCLH\", \"NOV\", \"NRG\", \"NUE\", \"NVDA\", \"NVR\", \"NXPI\", \"NOW\", \"ORLY\", \"OXY\", \"ODFL\", \"OMC\", \"OKE\", \"ORCL\", \"OTIS\", \"O\", \"PEAK\", \"PCAR\", \"PKG\", \"PH\", \"PAYX\", \"PAYC\", \"PYPL\", \"PENN\", \"PNR\", \"PBCT\", \"PEP\", \"PKI\", \"PRGO\", \"PFE\", \"PM\", \"PSX\", \"PNW\", \"PXD\", \"PNC\", \"POOL\", \"PPG\", \"PPL\", \"PFG\", \"PG\", \"PGR\", \"PLD\", \"PRU\", \"PTC\", \"PEG\", \"PSA\", \"PHM\", \"PVH\", \"PWR\", \"QRVO\", \"QCOM\", \"RE\", \"RL\", \"RJF\", \"RTX\", \"REG\", \"REGN\", \"RF\", \"RSG\", \"RMD\", \"RHI\", \"ROK\", \"ROL\", \"ROP\", \"ROST\", \"RCL\", \"SCHW\", \"STZ\", \"SJM\", \"SPGI\", \"SBAC\", \"SLB\", \"STX\", \"SEE\", \"SRE\", \"SHW\", \"SPG\", \"SWKS\", \"SNA\", \"SO\", \"SWK\", \"SBUX\", \"STT\", \"STE\", \"SYK\", \"SIVB\", \"SYF\", \"SNPS\", \"SYY\", \"T\", \"TAP\", \"TMUS\", \"TROW\", \"TTWO\", \"TPR\", \"TGT\", \"TEL\", \"TDY\", \"TFX\", \"TER\", \"TSLA\", \"TXN\", \"TXT\", \"TMO\", \"TJX\", \"TSCO\", \"TT\", \"TDG\", \"TRV\", \"TRMB\", \"TFC\", \"TWTR\", \"TYL\", \"TSN\", \"UDR\", \"ULTA\", \"USB\", \"UAA\", \"UA\", \"UNP\", \"UAL\", \"UNH\", \"UPS\", \"URI\", \"UHS\", \"UNM\", \"VLO\", \"VTR\", \"VRSN\", \"VRSK\", \"VZ\", \"VRTX\", \"VFC\", \"VIAC\", \"VTRS\", \"V\", \"VNO\", \"VMC\", \"WRB\", \"WAB\", \"WMT\", \"WBA\", \"WM\", \"WAT\", \"WEC\", \"WFC\", \"WELL\", \"WST\", \"WDC\", \"WU\", \"WRK\", \"WY\", \"WHR\", \"WMB\", \"WLTW\", \"WYNN\", \"XRAY\", \"XOM\", \"XEL\", \"XLNX\", \"XYL\", \"YUM\", \"ZBRA\", \"ZBH\", \"ZION\", \"ZTS\"]\n",
    "for stock_ticker in stock_tickers:\n",
    "    stock_history_data_df= yf.download(tickers = stock_ticker, start=\"2011-01-01\")\n",
    "    stock_history_df = stock_history_data_df[[\"Close\"]]\n",
    "    stock_history_df.reset_index(level=0, inplace=True)\n",
    "    ## Export each stock's historical data into it's own separate csv file\n",
    "    stock_history_df.to_csv(f\"resources/data_history_stocks/{stock_ticker}.csv\")\n",
    "    "
   ]
  },
  {
   "cell_type": "code",
   "execution_count": 3,
   "metadata": {},
   "outputs": [],
   "source": [
    "#### Run this cell if you aren't running the cell above\n",
    "stock_tickers = [\"ABT\", \"ABBV\", \"ABMD\", \"ACN\", \"ATVI\", \"ADBE\", \"AMD\", \"AAP\", \"AES\", \"AFL\", \"A\", \"APD\", \"AKAM\", \"ALK\", \"ALB\", \"ARE\", \"ALXN\", \"ALGN\", \"ALLE\", \"ALL\", \"AMZN\", \"AMCR\", \"AEE\", \"AAL\", \"AEP\", \"AXP\", \"AIG\", \"AMT\", \"AWK\", \"AMP\", \"ABC\", \"AME\", \"AMGN\", \"APH\", \"ADI\", \"ANSS\", \"ANTM\", \"AON\", \"AOS\", \"APA\", \"AAPL\", \"AMAT\", \"APT\", \"ADM\", \"ANET\", \"AJG\", \"AIZ\", \"ATO\", \"ADSK\", \"ADP\", \"AZO\", \"AVB\", \"AVY\", \"AVGO\", \"BKR\", \"BLL\", \"BAC\", \"BK\", \"BAX\", \"BDX\", \"BRK.B\", \"BBY\", \"BIO\", \"BIIB\", \"BLK\", \"BA\", \"BKNG\", \"BWA\", \"BXP\", \"BSX\", \"BMY\", \"BR\", \"BF.B\", \"BEN\", \"CHRW\", \"COG\", \"CDNS\", \"CZR\", \"CPB\", \"COF\", \"CAH\", \"CCL\", \"CARR\", \"CTLT\", \"CAT\", \"CBOE\", \"CBRE\", \"CDW\", \"CE\", \"CNC\", \"CNP\", \"CERN\", \"CF\", \"CRL\", \"CHTR\", \"CVX\", \"CMG\", \"CB\", \"CHD\", \"CI\", \"CINF\", \"CTAS\", \"CSCO\", \"C\", \"CFG\", \"CTXS\", \"CLX\", \"CME\", \"CMS\", \"CTSH\", \"CL\", \"CMCSA\", \"CMA\", \"CAG\", \"COP\", \"COO\", \"CPRT\", \"CTVA\", \"COST\", \"CCI\", \"CSX\", \"CMI\", \"CVS\", \"CRM\", \"DHI\", \"DHR\", \"DRI\", \"DVA\", \"DE\", \"DAL\", \"DVN\", \"DXCM\", \"DLR\", \"DFS\", \"DISCA\", \"DISCK\", \"DISH\", \"DG\", \"DLTR\", \"D\", \"DPZ\", \"DOV\", \"DOW\", \"DTE\", \"DUK\", \"DRE\", \"DD\", \"DXC\", \"DGX\", \"DIS\", \"ED\", \"EMN\", \"ETN\", \"EBAY\", \"ECL\", \"EIX\", \"EW\", \"EA\", \"EMR\", \"ENPH\", \"ETR\", \"EOG\", \"EFX\", \"EQIX\", \"EQR\", \"ESS\", \"EL\", \"ETSY\", \"EVRG\", \"ES\", \"EXC\", \"EXPE\", \"EXPD\", \"EXR\", \"FANG\", \"FFIV\", \"FB\", \"FAST\", \"FRT\", \"FDX\", \"FIS\", \"FITB\", \"FE\", \"FRC\", \"FISV\", \"FLT\", \"FMC\", \"F\", \"FTNT\", \"FTV\", \"FBHS\", \"FOXA\", \"FOX\", \"FCX\", \"GOOGL\", \"GOOG\", \"GLW\", \"GPS\", \"GRMN\", \"GNRC\", \"GD\", \"GE\", \"GIS\", \"GM\", \"GPC\", \"GILD\", \"GL\", \"GPN\", \"GS\", \"GWW\", \"HAL\", \"HBI\", \"HIG\", \"HAS\", \"HCA\", \"HSIC\", \"HSY\", \"HES\", \"HPE\", \"HLT\", \"HFC\", \"HOLX\", \"HD\", \"HON\", \"HRL\", \"HST\", \"HWM\", \"HPQ\", \"HUM\", \"HBAN\", \"HII\", \"IT\", \"IEX\", \"IDXX\", \"INFO\", \"ITW\", \"ILMN\", \"INCY\", \"IR\", \"INTC\", \"ICE\", \"IBM\", \"IP\", \"IPG\", \"IFF\", \"INTU\", \"ISRG\", \"IVZ\", \"IPGP\", \"IQV\", \"IRM\", \"JKHY\", \"J\", \"JBHT\", \"JNJ\", \"JCI\", \"JPM\", \"JNPR\", \"KMX\", \"KO\", \"KSU\", \"K\", \"KEY\", \"KEYS\", \"KMB\", \"KIM\", \"KMI\", \"KLAC\", \"KHC\", \"KR\", \"LNT\", \"LB\", \"LHX\", \"LH\", \"LRCX\", \"LW\", \"LVS\", \"LEG\", \"LDOS\", \"LEN\", \"LLY\", \"LNC\", \"LIN\", \"LYV\", \"LKQ\", \"LMT\", \"L\", \"LOW\", \"LUMN\", \"LYB\", \"LUV\", \"MMM\", \"MO\", \"MTB\", \"MRO\", \"MPC\", \"MKTX\", \"MAR\", \"MMC\", \"MLM\", \"MAS\", \"MA\", \"MKC\", \"MXIM\", \"MCD\", \"MCK\", \"MDT\", \"MRK\", \"MET\", \"MTD\", \"MGM\", \"MCHP\", \"MU\", \"MSFT\", \"MAA\", \"MHK\", \"MDLZ\", \"MPWR\", \"MNST\", \"MCO\", \"MS\", \"MOS\", \"MSI\", \"MSCI\", \"NDAQ\", \"NTAP\", \"NFLX\", \"NWL\", \"NEM\", \"NWSA\", \"NWS\", \"NEE\", \"NLSN\", \"NKE\", \"NI\", \"NSC\", \"NTRS\", \"NOC\", \"NLOK\", \"NCLH\", \"NOV\", \"NRG\", \"NUE\", \"NVDA\", \"NVR\", \"NXPI\", \"NOW\", \"ORLY\", \"OXY\", \"ODFL\", \"OMC\", \"OKE\", \"ORCL\", \"OTIS\", \"O\", \"PEAK\", \"PCAR\", \"PKG\", \"PH\", \"PAYX\", \"PAYC\", \"PYPL\", \"PENN\", \"PNR\", \"PBCT\", \"PEP\", \"PKI\", \"PRGO\", \"PFE\", \"PM\", \"PSX\", \"PNW\", \"PXD\", \"PNC\", \"POOL\", \"PPG\", \"PPL\", \"PFG\", \"PG\", \"PGR\", \"PLD\", \"PRU\", \"PTC\", \"PEG\", \"PSA\", \"PHM\", \"PVH\", \"PWR\", \"QRVO\", \"QCOM\", \"RE\", \"RL\", \"RJF\", \"RTX\", \"REG\", \"REGN\", \"RF\", \"RSG\", \"RMD\", \"RHI\", \"ROK\", \"ROL\", \"ROP\", \"ROST\", \"RCL\", \"SCHW\", \"STZ\", \"SJM\", \"SPGI\", \"SBAC\", \"SLB\", \"STX\", \"SEE\", \"SRE\", \"SHW\", \"SPG\", \"SWKS\", \"SNA\", \"SO\", \"SWK\", \"SBUX\", \"STT\", \"STE\", \"SYK\", \"SIVB\", \"SYF\", \"SNPS\", \"SYY\", \"T\", \"TAP\", \"TMUS\", \"TROW\", \"TTWO\", \"TPR\", \"TGT\", \"TEL\", \"TDY\", \"TFX\", \"TER\", \"TSLA\", \"TXN\", \"TXT\", \"TMO\", \"TJX\", \"TSCO\", \"TT\", \"TDG\", \"TRV\", \"TRMB\", \"TFC\", \"TWTR\", \"TYL\", \"TSN\", \"UDR\", \"ULTA\", \"USB\", \"UAA\", \"UA\", \"UNP\", \"UAL\", \"UNH\", \"UPS\", \"URI\", \"UHS\", \"UNM\", \"VLO\", \"VTR\", \"VRSN\", \"VRSK\", \"VZ\", \"VRTX\", \"VFC\", \"VIAC\", \"VTRS\", \"V\", \"VNO\", \"VMC\", \"WRB\", \"WAB\", \"WMT\", \"WBA\", \"WM\", \"WAT\", \"WEC\", \"WFC\", \"WELL\", \"WST\", \"WDC\", \"WU\", \"WRK\", \"WY\", \"WHR\", \"WMB\", \"WLTW\", \"WYNN\", \"XRAY\", \"XOM\", \"XEL\", \"XLNX\", \"XYL\", \"YUM\", \"ZBRA\", \"ZBH\", \"ZION\", \"ZTS\"]"
   ]
  },
  {
   "cell_type": "markdown",
   "metadata": {},
   "source": [
    "## Calculate linear regression for market\n",
    "### Market ticker symbol: ^GSPC"
   ]
  },
  {
   "cell_type": "code",
   "execution_count": 4,
   "metadata": {},
   "outputs": [
    {
     "data": {
      "text/html": [
       "<div>\n",
       "<style scoped>\n",
       "    .dataframe tbody tr th:only-of-type {\n",
       "        vertical-align: middle;\n",
       "    }\n",
       "\n",
       "    .dataframe tbody tr th {\n",
       "        vertical-align: top;\n",
       "    }\n",
       "\n",
       "    .dataframe thead th {\n",
       "        text-align: right;\n",
       "    }\n",
       "</style>\n",
       "<table border=\"1\" class=\"dataframe\">\n",
       "  <thead>\n",
       "    <tr style=\"text-align: right;\">\n",
       "      <th></th>\n",
       "      <th>Day Number</th>\n",
       "      <th>Date</th>\n",
       "      <th>Price</th>\n",
       "    </tr>\n",
       "  </thead>\n",
       "  <tbody>\n",
       "    <tr>\n",
       "      <th>0</th>\n",
       "      <td>0</td>\n",
       "      <td>2011-01-03</td>\n",
       "      <td>1271.869995</td>\n",
       "    </tr>\n",
       "    <tr>\n",
       "      <th>1</th>\n",
       "      <td>1</td>\n",
       "      <td>2011-01-04</td>\n",
       "      <td>1270.199951</td>\n",
       "    </tr>\n",
       "    <tr>\n",
       "      <th>2</th>\n",
       "      <td>2</td>\n",
       "      <td>2011-01-05</td>\n",
       "      <td>1276.560059</td>\n",
       "    </tr>\n",
       "    <tr>\n",
       "      <th>3</th>\n",
       "      <td>3</td>\n",
       "      <td>2011-01-06</td>\n",
       "      <td>1273.849976</td>\n",
       "    </tr>\n",
       "    <tr>\n",
       "      <th>4</th>\n",
       "      <td>4</td>\n",
       "      <td>2011-01-07</td>\n",
       "      <td>1271.500000</td>\n",
       "    </tr>\n",
       "  </tbody>\n",
       "</table>\n",
       "</div>"
      ],
      "text/plain": [
       "   Day Number        Date        Price\n",
       "0           0  2011-01-03  1271.869995\n",
       "1           1  2011-01-04  1270.199951\n",
       "2           2  2011-01-05  1276.560059\n",
       "3           3  2011-01-06  1273.849976\n",
       "4           4  2011-01-07  1271.500000"
      ]
     },
     "execution_count": 4,
     "metadata": {},
     "output_type": "execute_result"
    }
   ],
   "source": [
    "## Create path to sp500 csv and import data to dataframe\n",
    "market_path = \"resources/data_history_market/^GSPC.csv\"\n",
    "market_df = pd.read_csv(market_path)\n",
    "## Rename index column from 'Unnamed: 0' to 'Day Number' \n",
    "    ##(header for index is blank in csv file, couldn't figure out how to fix in initial loop before exporting data to CSVs)\n",
    "## Rename closing price column from 'Close' to 'Price'\n",
    "market_df.rename(columns={\"Unnamed: 0\": \"Day Number\", \n",
    "                          \"Date\": \"Date\", \n",
    "                          \"Close\": \"Price\"}, inplace = True)\n",
    "## Show first 5 rows of data frame\n",
    "market_df.head()"
   ]
  },
  {
   "cell_type": "code",
   "execution_count": 5,
   "metadata": {},
   "outputs": [
    {
     "name": "stdout",
     "output_type": "stream",
     "text": [
      "Market: slope = [0.91567333]: y-intercept = 1044.2083132335301: score = 0.9305977469097396\n"
     ]
    }
   ],
   "source": [
    "## Create path to historical market data\n",
    "market_file = \"resources/data_history_market/^GSPC.csv\"\n",
    "## Use linear regression to find slope and y intercept of sp500 data\n",
    "market_model = LinearRegression()\n",
    "market_model.fit(np.array(market_df[\"Day Number\"]).reshape(-1,1), market_df[\"Price\"])\n",
    "market_slope = market_model.coef_\n",
    "market_intercept = market_model.intercept_\n",
    "market_score = market_model.score(np.array(market_df[\"Day Number\"]).reshape(-1,1), market_df[\"Price\"])\n",
    "market_file_name = str(market_file).replace(\"^GSPC\", \"Market\").replace(\".csv\",\"\").replace(\"resources/data_history_market/\",\"\")\n",
    "#print(f\"{file_name}: y = {(slope)}x + {intercept}\")\n",
    "print(f\"{market_file_name}: slope = {market_slope}: y-intercept = {market_intercept}: score = {market_score}\")"
   ]
  },
  {
   "cell_type": "code",
   "execution_count": 6,
   "metadata": {},
   "outputs": [],
   "source": [
    "## Calculate regression line of market\n",
    "market_regression = [market_slope * day + market_intercept for day in market_df[\"Day Number\"]]"
   ]
  },
  {
   "cell_type": "code",
   "execution_count": 7,
   "metadata": {},
   "outputs": [],
   "source": [
    "# ## Plot market data without regression line\n",
    "# plt.figure(figsize=(30,15))\n",
    "# plt.plot(market_df[\"Day Number\"], market_df[\"Price\"], c=\"#26a0ad\", linewidth=5)"
   ]
  },
  {
   "cell_type": "code",
   "execution_count": 8,
   "metadata": {},
   "outputs": [
    {
     "data": {
      "text/plain": [
       "[<matplotlib.lines.Line2D at 0x22a39c95fd0>]"
      ]
     },
     "execution_count": 8,
     "metadata": {},
     "output_type": "execute_result"
    },
    {
     "data": {
      "image/png": "[encoded data removed]",
      "text/plain": [
       "<Figure size 2160x1080 with 1 Axes>"
      ]
     },
     "metadata": {
      "needs_background": "light"
     },
     "output_type": "display_data"
    }
   ],
   "source": [
    "## Plot market data and market regression line and save graph to image file\n",
    "plt.figure(figsize=(30,15))\n",
    "plt.plot(market_df[\"Day Number\"], market_df[\"Price\"], c=\"#26a0ad\", linewidth=5)\n",
    "plt.plot(market_df[\"Day Number\"], market_regression, c=\"#ff6a00\", linewidth=6)\n",
    "###### Will need to format graph and save to image file ######\n",
    "# plt.savefig(\"static/img/data_history_reg_market.png\")\n",
    "# plt.show()"
   ]
  },
  {
   "cell_type": "code",
   "execution_count": 9,
   "metadata": {},
   "outputs": [],
   "source": [
    "## Market Regression CSV\n",
    "## note: market_reg is a list of values\n",
    "market_reg_raw_df = pd.DataFrame(market_regression)\n",
    "market_reg_raw_df.to_csv(\"resources/data_results/scratch/market_reg_raw_df.csv\")\n",
    "market_reg_raw_path = \"resources/data_results/scratch/market_reg_raw_df.csv\"\n",
    "market_reg_df = pd.read_csv(market_reg_raw_path)\n",
    "del market_reg_df['Unnamed: 0']\n",
    "market_reg_df.rename(columns={\"0\": \"Regression\"}, inplace = True)\n",
    "market_reg_df.to_csv(\"resources/data_results/market/market_regression.csv\")"
   ]
  },
  {
   "cell_type": "markdown",
   "metadata": {},
   "source": [
    "## Calculate linear regressions: slopes, y-intercepts, and scores\n",
    "### - Loop through all csvs in data_stocks_history folder"
   ]
  },
  {
   "cell_type": "code",
   "execution_count": 10,
   "metadata": {},
   "outputs": [],
   "source": [
    "## Create empty lists to store various results/outputs\n",
    "allstocks_tickerlist = []\n",
    "winningstocks_tickerlist = []\n",
    "losingstocks_tickerlist = []\n",
    "worststocks_tickerlist = []\n",
    "runnerupstocks_tickerlist = []\n",
    "\n",
    "allstocks_modelvalues = []\n",
    "winningstocks_modelvalues = []\n",
    "losingstocks_modelvalues = []\n",
    "worststocks_modelvalues = []\n",
    "runnerupstocks_modelvalues = []\n",
    "\n",
    "allstocks_regressionlist = []\n",
    "winningstocks_regressionlist = []\n",
    "losingstocks_regressionlist = []\n",
    "worststocks_regressionlist = []\n",
    "runnerupstocks_regressionlist = []"
   ]
  },
  {
   "cell_type": "code",
   "execution_count": 11,
   "metadata": {},
   "outputs": [],
   "source": [
    "## Define error log file\n",
    "error_log = open(\"errors.log\", \"a\")\n",
    "error_count = 0\n",
    "## Use pathlib to loop through all csvs in data_tickers folder \n",
    "folder = \"resources/data_history_stocks\"\n",
    "for file in Path(folder).glob(\"*.csv\"):\n",
    "    ## Create empty lists to store slopes for all stocks, winning stocks, and losing stocks\n",
    "    try:\n",
    "        stock_df = pd.read_csv(file)\n",
    "        stock_df.rename(columns={\"Unnamed: 0\": \"Day Number\", \n",
    "                                 \"Date\": \"Date\", \n",
    "                                 \"Close\": \"Price\"}, inplace = True)\n",
    "        ## Use linear regression to find slope, y intercept, and regression of historical market data\n",
    "        stock_model = LinearRegression()\n",
    "        stock_model.fit(np.array(stock_df[\"Day Number\"]).reshape(-1,1), stock_df[\"Price\"])\n",
    "        stock_slope = stock_model.coef_\n",
    "        stock_intercept = stock_model.intercept_\n",
    "        stock_score = stock_model.score(np.array(stock_df[\"Day Number\"]).reshape(-1,1), stock_df[\"Price\"])\n",
    "        file_name = str(file).replace(\".csv\",\"\").replace(\"resources\\\\data_history_stocks\\\\\",\"\")\n",
    "        #print(f\"{file_name}: y = {(slope)}x + {intercept}\")\n",
    "        #print(f\"{file_name}: slope = {(stock_slope)}: score = {stock_score}\")\n",
    "        ## Calculate regression line of stocks\n",
    "        ## Append all stock results to lists\n",
    "        allstocks_modelvalues.append({\"Stock\": file_name, \"Slope\": stock_slope, \"Y-intercept\": stock_intercept, \"Score\": stock_score})\n",
    "       # all_stocks_list.append({\"Stock\": file_name})\n",
    "        allstocks_tickerlist.append(file_name)\n",
    "        \n",
    "    except Exception as e:\n",
    "        error_log.write(str(file))\n",
    "        error_log.write(str(e))\n",
    "        error_log.write(\"\")\n",
    "        error_count += 1\n",
    "     ## If else for winning stocks\n",
    "    if stock_slope > market_slope:\n",
    "        winningstocks_modelvalues.append({\"Stock\": file_name, \"Slope\": stock_slope, \"Y-intercept\": stock_intercept, \"Score\": stock_score})\n",
    "        winningstocks_tickerlist.append(file_name)\n",
    "    else:\n",
    "        losingstocks_modelvalues.append({\"Stock\": file_name, \"Slope\": stock_slope, \"Y-intercept\": stock_intercept, \"Score\": stock_score})\n",
    "        losingstocks_tickerlist.append(file_name)\n",
    "        \n",
    "# error_log.close()\n",
    "# print(f\"Encountered {error_count} errors\")"
   ]
  },
  {
   "cell_type": "code",
   "execution_count": 12,
   "metadata": {},
   "outputs": [
    {
     "data": {
      "text/plain": [
       "['AMZN', 'NVR']"
      ]
     },
     "execution_count": 12,
     "metadata": {},
     "output_type": "execute_result"
    }
   ],
   "source": [
    "# del winning_stocks_list\n",
    "# del losing_stocks_list\n",
    "# del all_stocks_list\n",
    "winningstocks_tickerlist"
   ]
  },
  {
   "cell_type": "code",
   "execution_count": 13,
   "metadata": {},
   "outputs": [
    {
     "data": {
      "text/html": [
       "<div>\n",
       "<style scoped>\n",
       "    .dataframe tbody tr th:only-of-type {\n",
       "        vertical-align: middle;\n",
       "    }\n",
       "\n",
       "    .dataframe tbody tr th {\n",
       "        vertical-align: top;\n",
       "    }\n",
       "\n",
       "    .dataframe thead th {\n",
       "        text-align: right;\n",
       "    }\n",
       "</style>\n",
       "<table border=\"1\" class=\"dataframe\">\n",
       "  <thead>\n",
       "    <tr style=\"text-align: right;\">\n",
       "      <th></th>\n",
       "      <th>Stock</th>\n",
       "      <th>Slope</th>\n",
       "      <th>Y-intercept</th>\n",
       "      <th>Score</th>\n",
       "    </tr>\n",
       "  </thead>\n",
       "  <tbody>\n",
       "    <tr>\n",
       "      <th>0</th>\n",
       "      <td>A</td>\n",
       "      <td>[0.030670449470024706]</td>\n",
       "      <td>13.859910</td>\n",
       "      <td>0.812693</td>\n",
       "    </tr>\n",
       "    <tr>\n",
       "      <th>1</th>\n",
       "      <td>AAL</td>\n",
       "      <td>[0.006599130718557561]</td>\n",
       "      <td>20.473385</td>\n",
       "      <td>0.112110</td>\n",
       "    </tr>\n",
       "    <tr>\n",
       "      <th>2</th>\n",
       "      <td>AAP</td>\n",
       "      <td>[0.037212528093538366]</td>\n",
       "      <td>76.996240</td>\n",
       "      <td>0.527757</td>\n",
       "    </tr>\n",
       "    <tr>\n",
       "      <th>3</th>\n",
       "      <td>AAPL</td>\n",
       "      <td>[0.033017379653274524]</td>\n",
       "      <td>-3.322469</td>\n",
       "      <td>0.690018</td>\n",
       "    </tr>\n",
       "    <tr>\n",
       "      <th>4</th>\n",
       "      <td>ABBV</td>\n",
       "      <td>[0.028137085222355175]</td>\n",
       "      <td>42.528080</td>\n",
       "      <td>0.734616</td>\n",
       "    </tr>\n",
       "  </tbody>\n",
       "</table>\n",
       "</div>"
      ],
      "text/plain": [
       "  Stock                   Slope  Y-intercept     Score\n",
       "0     A  [0.030670449470024706]    13.859910  0.812693\n",
       "1   AAL  [0.006599130718557561]    20.473385  0.112110\n",
       "2   AAP  [0.037212528093538366]    76.996240  0.527757\n",
       "3  AAPL  [0.033017379653274524]    -3.322469  0.690018\n",
       "4  ABBV  [0.028137085222355175]    42.528080  0.734616"
      ]
     },
     "execution_count": 13,
     "metadata": {},
     "output_type": "execute_result"
    }
   ],
   "source": [
    "## Load all_stocks_results (list of dictionaries) into a Data Frame\n",
    "allstocks_modelvalues_df = pd.DataFrame(allstocks_modelvalues)\n",
    "## Export all_stocks_results data frame into it's own separate csv file\n",
    "allstocks_modelvalues_df.to_csv(\"resources/data_results/all_stocks/allstocks_modelvalues.csv\")\n",
    "## Show first 5 rows of new dataframe\n",
    "allstocks_modelvalues_df.head()"
   ]
  },
  {
   "cell_type": "code",
   "execution_count": 14,
   "metadata": {},
   "outputs": [
    {
     "data": {
      "text/html": [
       "<div>\n",
       "<style scoped>\n",
       "    .dataframe tbody tr th:only-of-type {\n",
       "        vertical-align: middle;\n",
       "    }\n",
       "\n",
       "    .dataframe tbody tr th {\n",
       "        vertical-align: top;\n",
       "    }\n",
       "\n",
       "    .dataframe thead th {\n",
       "        text-align: right;\n",
       "    }\n",
       "</style>\n",
       "<table border=\"1\" class=\"dataframe\">\n",
       "  <thead>\n",
       "    <tr style=\"text-align: right;\">\n",
       "      <th></th>\n",
       "      <th>Stock</th>\n",
       "      <th>Slope</th>\n",
       "      <th>Y-intercept</th>\n",
       "      <th>Score</th>\n",
       "    </tr>\n",
       "  </thead>\n",
       "  <tbody>\n",
       "    <tr>\n",
       "      <th>0</th>\n",
       "      <td>AMZN</td>\n",
       "      <td>[1.10484758236394]</td>\n",
       "      <td>-424.405852</td>\n",
       "      <td>0.820469</td>\n",
       "    </tr>\n",
       "    <tr>\n",
       "      <th>1</th>\n",
       "      <td>NVR</td>\n",
       "      <td>[1.4741055836098944]</td>\n",
       "      <td>82.811433</td>\n",
       "      <td>0.885639</td>\n",
       "    </tr>\n",
       "  </tbody>\n",
       "</table>\n",
       "</div>"
      ],
      "text/plain": [
       "  Stock                 Slope  Y-intercept     Score\n",
       "0  AMZN    [1.10484758236394]  -424.405852  0.820469\n",
       "1   NVR  [1.4741055836098944]    82.811433  0.885639"
      ]
     },
     "execution_count": 14,
     "metadata": {},
     "output_type": "execute_result"
    }
   ],
   "source": [
    "## Load winning_stocks_results (list of dictionaries) into a Data Frame\n",
    "winningstocks_modelvalues_df = pd.DataFrame(winningstocks_modelvalues)\n",
    "## Export winning_stocks_results data frame into it's own separate csv file\n",
    "winningstocks_modelvalues_df.to_csv(\"resources/data_results/winning_stocks/winningstocks_modelvalues.csv\")\n",
    "## Show first 5 rows of new dataframe\n",
    "winningstocks_modelvalues_df.head()"
   ]
  },
  {
   "cell_type": "code",
   "execution_count": 15,
   "metadata": {},
   "outputs": [
    {
     "data": {
      "text/html": [
       "<div>\n",
       "<style scoped>\n",
       "    .dataframe tbody tr th:only-of-type {\n",
       "        vertical-align: middle;\n",
       "    }\n",
       "\n",
       "    .dataframe tbody tr th {\n",
       "        vertical-align: top;\n",
       "    }\n",
       "\n",
       "    .dataframe thead th {\n",
       "        text-align: right;\n",
       "    }\n",
       "</style>\n",
       "<table border=\"1\" class=\"dataframe\">\n",
       "  <thead>\n",
       "    <tr style=\"text-align: right;\">\n",
       "      <th></th>\n",
       "      <th>Stock</th>\n",
       "      <th>Slope</th>\n",
       "      <th>Y-intercept</th>\n",
       "      <th>Score</th>\n",
       "    </tr>\n",
       "  </thead>\n",
       "  <tbody>\n",
       "    <tr>\n",
       "      <th>0</th>\n",
       "      <td>A</td>\n",
       "      <td>[0.030670449470024706]</td>\n",
       "      <td>13.859910</td>\n",
       "      <td>0.812693</td>\n",
       "    </tr>\n",
       "    <tr>\n",
       "      <th>1</th>\n",
       "      <td>AAL</td>\n",
       "      <td>[0.006599130718557561]</td>\n",
       "      <td>20.473385</td>\n",
       "      <td>0.112110</td>\n",
       "    </tr>\n",
       "    <tr>\n",
       "      <th>2</th>\n",
       "      <td>AAP</td>\n",
       "      <td>[0.037212528093538366]</td>\n",
       "      <td>76.996240</td>\n",
       "      <td>0.527757</td>\n",
       "    </tr>\n",
       "    <tr>\n",
       "      <th>3</th>\n",
       "      <td>AAPL</td>\n",
       "      <td>[0.033017379653274524]</td>\n",
       "      <td>-3.322469</td>\n",
       "      <td>0.690018</td>\n",
       "    </tr>\n",
       "    <tr>\n",
       "      <th>4</th>\n",
       "      <td>ABBV</td>\n",
       "      <td>[0.028137085222355175]</td>\n",
       "      <td>42.528080</td>\n",
       "      <td>0.734616</td>\n",
       "    </tr>\n",
       "  </tbody>\n",
       "</table>\n",
       "</div>"
      ],
      "text/plain": [
       "  Stock                   Slope  Y-intercept     Score\n",
       "0     A  [0.030670449470024706]    13.859910  0.812693\n",
       "1   AAL  [0.006599130718557561]    20.473385  0.112110\n",
       "2   AAP  [0.037212528093538366]    76.996240  0.527757\n",
       "3  AAPL  [0.033017379653274524]    -3.322469  0.690018\n",
       "4  ABBV  [0.028137085222355175]    42.528080  0.734616"
      ]
     },
     "execution_count": 15,
     "metadata": {},
     "output_type": "execute_result"
    }
   ],
   "source": [
    "# ## Load losing_stocks_results (list of dictionaries) into a Data Frame\n",
    "losingstocks_modelvalues_df = pd.DataFrame(losingstocks_modelvalues)\n",
    "## Export losing_stocks_results data frame into it's own separate csv file\n",
    "losingstocks_modelvalues_df.to_csv(\"resources/data_results/losing_stocks/losingstocks_modelvalues.csv\")\n",
    "## Show first 5 rows of new dataframe\n",
    "losingstocks_modelvalues_df.head()"
   ]
  },
  {
   "cell_type": "code",
   "execution_count": 16,
   "metadata": {},
   "outputs": [
    {
     "data": {
      "text/html": [
       "<div>\n",
       "<style scoped>\n",
       "    .dataframe tbody tr th:only-of-type {\n",
       "        vertical-align: middle;\n",
       "    }\n",
       "\n",
       "    .dataframe tbody tr th {\n",
       "        vertical-align: top;\n",
       "    }\n",
       "\n",
       "    .dataframe thead th {\n",
       "        text-align: right;\n",
       "    }\n",
       "</style>\n",
       "<table border=\"1\" class=\"dataframe\">\n",
       "  <thead>\n",
       "    <tr style=\"text-align: right;\">\n",
       "      <th></th>\n",
       "      <th>Stock</th>\n",
       "      <th>Slope</th>\n",
       "      <th>Y-intercept</th>\n",
       "      <th>Score</th>\n",
       "    </tr>\n",
       "  </thead>\n",
       "  <tbody>\n",
       "    <tr>\n",
       "      <th>0</th>\n",
       "      <td>KHC</td>\n",
       "      <td>[-0.0469475987545335]</td>\n",
       "      <td>93.423922</td>\n",
       "      <td>0.743632</td>\n",
       "    </tr>\n",
       "    <tr>\n",
       "      <th>1</th>\n",
       "      <td>APA</td>\n",
       "      <td>[-0.03836289644231998]</td>\n",
       "      <td>109.366525</td>\n",
       "      <td>0.893787</td>\n",
       "    </tr>\n",
       "    <tr>\n",
       "      <th>2</th>\n",
       "      <td>PRGO</td>\n",
       "      <td>[-0.031489714593205896]</td>\n",
       "      <td>138.970503</td>\n",
       "      <td>0.341416</td>\n",
       "    </tr>\n",
       "    <tr>\n",
       "      <th>3</th>\n",
       "      <td>RL</td>\n",
       "      <td>[-0.027683557817582288]</td>\n",
       "      <td>161.007197</td>\n",
       "      <td>0.426460</td>\n",
       "    </tr>\n",
       "    <tr>\n",
       "      <th>4</th>\n",
       "      <td>IBM</td>\n",
       "      <td>[-0.02747376199598605]</td>\n",
       "      <td>196.076844</td>\n",
       "      <td>0.659919</td>\n",
       "    </tr>\n",
       "    <tr>\n",
       "      <th>5</th>\n",
       "      <td>OXY</td>\n",
       "      <td>[-0.025684003928287662]</td>\n",
       "      <td>102.662212</td>\n",
       "      <td>0.690018</td>\n",
       "    </tr>\n",
       "    <tr>\n",
       "      <th>6</th>\n",
       "      <td>NOV</td>\n",
       "      <td>[-0.02443139152123535]</td>\n",
       "      <td>76.918339</td>\n",
       "      <td>0.794237</td>\n",
       "    </tr>\n",
       "    <tr>\n",
       "      <th>7</th>\n",
       "      <td>DVN</td>\n",
       "      <td>[-0.02396731419480716]</td>\n",
       "      <td>76.980977</td>\n",
       "      <td>0.806010</td>\n",
       "    </tr>\n",
       "    <tr>\n",
       "      <th>8</th>\n",
       "      <td>SLB</td>\n",
       "      <td>[-0.023715273424911948]</td>\n",
       "      <td>97.841726</td>\n",
       "      <td>0.574901</td>\n",
       "    </tr>\n",
       "    <tr>\n",
       "      <th>9</th>\n",
       "      <td>MOS</td>\n",
       "      <td>[-0.019367781037619613]</td>\n",
       "      <td>63.621256</td>\n",
       "      <td>0.791186</td>\n",
       "    </tr>\n",
       "  </tbody>\n",
       "</table>\n",
       "</div>"
      ],
      "text/plain": [
       "  Stock                    Slope  Y-intercept     Score\n",
       "0   KHC    [-0.0469475987545335]    93.423922  0.743632\n",
       "1   APA   [-0.03836289644231998]   109.366525  0.893787\n",
       "2  PRGO  [-0.031489714593205896]   138.970503  0.341416\n",
       "3    RL  [-0.027683557817582288]   161.007197  0.426460\n",
       "4   IBM   [-0.02747376199598605]   196.076844  0.659919\n",
       "5   OXY  [-0.025684003928287662]   102.662212  0.690018\n",
       "6   NOV   [-0.02443139152123535]    76.918339  0.794237\n",
       "7   DVN   [-0.02396731419480716]    76.980977  0.806010\n",
       "8   SLB  [-0.023715273424911948]    97.841726  0.574901\n",
       "9   MOS  [-0.019367781037619613]    63.621256  0.791186"
      ]
     },
     "execution_count": 16,
     "metadata": {},
     "output_type": "execute_result"
    }
   ],
   "source": [
    "## Grab the 10 worst stocks and put results into their own Data Frame\n",
    "# Sorting the DataFrame based on \"Slope\" column\n",
    "# Will sort from lowest to highest if no other parameter is passed\n",
    "worststocks_modelvalues_df = allstocks_modelvalues_df.sort_values(\"Slope\")\n",
    "# Reset the index so that the index is now based on the sorting locations\n",
    "worststocks_modelvalues_df = worststocks_modelvalues_df.reset_index(drop=True)\n",
    "## Drop all rows except first 10\n",
    "worststocks_modelvalues_df.drop(worststocks_modelvalues_df.index[10:], inplace=True)\n",
    "## Export worst_stocks_results data frame into it's own separate csv file\n",
    "worststocks_modelvalues_df.to_csv(\"resources/data_results/worst_stocks/worststocks_modelvalues.csv\")\n",
    "## Show new dataframe\n",
    "worststocks_modelvalues_df "
   ]
  },
  {
   "cell_type": "code",
   "execution_count": 17,
   "metadata": {},
   "outputs": [
    {
     "data": {
      "text/plain": [
       "['KHC', 'APA', 'PRGO', 'RL', 'IBM', 'OXY', 'NOV', 'DVN', 'SLB', 'MOS']"
      ]
     },
     "execution_count": 17,
     "metadata": {},
     "output_type": "execute_result"
    }
   ],
   "source": [
    "## Grab values in Stock column of Runnerup Stocks DF and append values to list \n",
    "#### Hopefully will use list to loop thru and calc regressions and make csv for each stock\n",
    "worststocks_tickerlist = worststocks_modelvalues_df['Stock'].tolist()\n",
    "worststocks_tickerlist"
   ]
  },
  {
   "cell_type": "code",
   "execution_count": 18,
   "metadata": {},
   "outputs": [
    {
     "data": {
      "text/html": [
       "<div>\n",
       "<style scoped>\n",
       "    .dataframe tbody tr th:only-of-type {\n",
       "        vertical-align: middle;\n",
       "    }\n",
       "\n",
       "    .dataframe tbody tr th {\n",
       "        vertical-align: top;\n",
       "    }\n",
       "\n",
       "    .dataframe thead th {\n",
       "        text-align: right;\n",
       "    }\n",
       "</style>\n",
       "<table border=\"1\" class=\"dataframe\">\n",
       "  <thead>\n",
       "    <tr style=\"text-align: right;\">\n",
       "      <th></th>\n",
       "      <th>Stock</th>\n",
       "      <th>Slope</th>\n",
       "      <th>Y-intercept</th>\n",
       "      <th>Score</th>\n",
       "    </tr>\n",
       "  </thead>\n",
       "  <tbody>\n",
       "    <tr>\n",
       "      <th>0</th>\n",
       "      <td>BKNG</td>\n",
       "      <td>[0.666985934307855]</td>\n",
       "      <td>479.268036</td>\n",
       "      <td>0.868494</td>\n",
       "    </tr>\n",
       "    <tr>\n",
       "      <th>1</th>\n",
       "      <td>GOOG</td>\n",
       "      <td>[0.578607344181096]</td>\n",
       "      <td>62.469546</td>\n",
       "      <td>0.879429</td>\n",
       "    </tr>\n",
       "    <tr>\n",
       "      <th>2</th>\n",
       "      <td>GOOGL</td>\n",
       "      <td>[0.5770421106694515]</td>\n",
       "      <td>71.230727</td>\n",
       "      <td>0.888064</td>\n",
       "    </tr>\n",
       "    <tr>\n",
       "      <th>3</th>\n",
       "      <td>AZO</td>\n",
       "      <td>[0.3601499112448349]</td>\n",
       "      <td>216.480412</td>\n",
       "      <td>0.859887</td>\n",
       "    </tr>\n",
       "    <tr>\n",
       "      <th>4</th>\n",
       "      <td>MTD</td>\n",
       "      <td>[0.34917389316160735]</td>\n",
       "      <td>-0.623806</td>\n",
       "      <td>0.863670</td>\n",
       "    </tr>\n",
       "    <tr>\n",
       "      <th>5</th>\n",
       "      <td>CMG</td>\n",
       "      <td>[0.26945917065636243]</td>\n",
       "      <td>213.881891</td>\n",
       "      <td>0.469004</td>\n",
       "    </tr>\n",
       "    <tr>\n",
       "      <th>6</th>\n",
       "      <td>ISRG</td>\n",
       "      <td>[0.24083591424045958]</td>\n",
       "      <td>-3.674168</td>\n",
       "      <td>0.808996</td>\n",
       "    </tr>\n",
       "    <tr>\n",
       "      <th>7</th>\n",
       "      <td>EQIX</td>\n",
       "      <td>[0.23739802442596358]</td>\n",
       "      <td>33.465533</td>\n",
       "      <td>0.909350</td>\n",
       "    </tr>\n",
       "    <tr>\n",
       "      <th>8</th>\n",
       "      <td>CHTR</td>\n",
       "      <td>[0.21617259994661445]</td>\n",
       "      <td>-27.561158</td>\n",
       "      <td>0.902055</td>\n",
       "    </tr>\n",
       "    <tr>\n",
       "      <th>9</th>\n",
       "      <td>PAYC</td>\n",
       "      <td>[0.20991896009878094]</td>\n",
       "      <td>-55.343142</td>\n",
       "      <td>0.841577</td>\n",
       "    </tr>\n",
       "  </tbody>\n",
       "</table>\n",
       "</div>"
      ],
      "text/plain": [
       "   Stock                  Slope  Y-intercept     Score\n",
       "0   BKNG    [0.666985934307855]   479.268036  0.868494\n",
       "1   GOOG    [0.578607344181096]    62.469546  0.879429\n",
       "2  GOOGL   [0.5770421106694515]    71.230727  0.888064\n",
       "3    AZO   [0.3601499112448349]   216.480412  0.859887\n",
       "4    MTD  [0.34917389316160735]    -0.623806  0.863670\n",
       "5    CMG  [0.26945917065636243]   213.881891  0.469004\n",
       "6   ISRG  [0.24083591424045958]    -3.674168  0.808996\n",
       "7   EQIX  [0.23739802442596358]    33.465533  0.909350\n",
       "8   CHTR  [0.21617259994661445]   -27.561158  0.902055\n",
       "9   PAYC  [0.20991896009878094]   -55.343142  0.841577"
      ]
     },
     "execution_count": 18,
     "metadata": {},
     "output_type": "execute_result"
    }
   ],
   "source": [
    "## Grab the 10 runner-up stock results and put into their own Data Frame\n",
    "runnerupstocks_modelvalues_df = losingstocks_modelvalues_df.sort_values(\"Slope\",ascending=False)\n",
    "## Reset the index so that the index is now based on the sorting locations\n",
    "runnerupstocks_modelvalues_df = runnerupstocks_modelvalues_df.reset_index(drop=True)\n",
    "## Drop all rows except first 10\n",
    "runnerupstocks_modelvalues_df.drop(runnerupstocks_modelvalues_df.index[10:], inplace=True)\n",
    "## Export runnerup_stocks_results data frame into it's own separate csv file\n",
    "runnerupstocks_modelvalues_df.to_csv(\"resources/data_results/runnerup_stocks/runnerupstocks_modelvalues.csv\")\n",
    "## Show new dataframe\n",
    "runnerupstocks_modelvalues_df "
   ]
  },
  {
   "cell_type": "code",
   "execution_count": 19,
   "metadata": {},
   "outputs": [
    {
     "data": {
      "text/plain": [
       "['BKNG', 'GOOG', 'GOOGL', 'AZO', 'MTD', 'CMG', 'ISRG', 'EQIX', 'CHTR', 'PAYC']"
      ]
     },
     "execution_count": 19,
     "metadata": {},
     "output_type": "execute_result"
    }
   ],
   "source": [
    "## Grab values in Stock column of Runnerup Stocks DF and append values to list \n",
    "runnerupstocks_tickerlist = runnerupstocks_modelvalues_df['Stock'].tolist()\n",
    "runnerupstocks_tickerlist"
   ]
  },
  {
   "cell_type": "markdown",
   "metadata": {},
   "source": [
    "### Calculate Regression Lines For each Winning Stock: \n",
    "##### - Calculate regression lines for eah for the Winning Stocks, save regression line data points to DataFrame, then export DataFrame to csv"
   ]
  },
  {
   "cell_type": "code",
   "execution_count": 39,
   "metadata": {},
   "outputs": [
    {
     "name": "stdout",
     "output_type": "stream",
     "text": [
      "AMZN\n",
      "NVR\n"
     ]
    }
   ],
   "source": [
    "\n",
    "for file in Path(folder).glob(\"*.csv\"):\n",
    "    try:\n",
    "        file_name = str(file).replace('.csv','').replace('resources\\\\data_history_stocks\\\\','')\n",
    "        if file_name in winningstocks_tickerlist:\n",
    "            print(file_name)\n",
    "            winningstocks_regloop_df = pd.read_csv(file)\n",
    "            winningstocks_regloop_df.rename(columns={\"Unnamed: 0\": \"Day Number\", \n",
    "                                                     \"Date\": \"Date\", \n",
    "                                                     \"Close\": \"Price\"}, inplace = True)\n",
    "            ## Use linear regression to find slope, y intercept, and regression of historical market data\n",
    "            winningstocks_model = LinearRegression()\n",
    "            winningstocks_model.fit(np.array(winningstocks_regloop_df[\"Day Number\"]).reshape(-1,1), winningstocks_regloop_df[\"Price\"])\n",
    "            winningstocks_slope = winningstocks_model.coef_\n",
    "            winningstocks_intercept = winningstocks_model.intercept_\n",
    "            winningstocks_score = winningstocks_model.score(np.array(winningstocks_regloop_df[\"Day Number\"]).reshape(-1,1), winningstocks_regloop_df[\"Price\"])\n",
    "            file_name = str(file).replace(\".csv\",\"\").replace(\"resources\\\\data_history_stocks\\\\\",\"\")\n",
    "            \n",
    "            ## Calculate regression line of stocks\n",
    "            ## Append all stock results to lists\n",
    "            winningstocks_regression = [winningstocks_slope * day + winningstocks_intercept for day in winningstocks_regloop_df[\"Day Number\"]]\n",
    "            winningstocks_regressionlist.append({\"Stock\": file_name, \"Slope\": winningstocks_slope, \"Y-intercept\": winningstocks_intercept, \"Score\": winningstocks_score})\n",
    "           # all_stocks_list.append({\"Stock\": file_name})\n",
    "            #all_stocks_list.append(file_name)\n",
    "            \n",
    "            ## Winning_Stocks Regression DataFrame, export as CSV file\n",
    "            winningstocks_reg_raw_df = pd.DataFrame(winningstocks_regression)\n",
    "            winningstocks_reg_raw_df.to_csv(f\"resources/data_results/scratch/win_stock_reg_raw_df_{file_name}.csv\")\n",
    "            winningstocks_reg_raw_path = f\"resources/data_results/scratch/win_stock_reg_raw_df_{file_name}.csv\"\n",
    "            winningstocks_reg_df = pd.read_csv(winningstocks_reg_raw_path)\n",
    "            del winningstocks_reg_df['Unnamed: 0']\n",
    "            winningstocks_reg_df.rename(columns={\"0\": \"Regression\"}, inplace = True)\n",
    "            winningstocks_reg_df.to_csv(f\"resources/data_results/winning_stocks/{file_name}_regression.csv\")\n",
    "        else:\n",
    "            pass\n",
    "    except Exception as e:\n",
    "        error_log.write(str(file))\n",
    "        error_log.write(str(e))\n",
    "        error_log.write(\"\")\n",
    "        error_count += 1\n"
   ]
  },
  {
   "cell_type": "code",
   "execution_count": 41,
   "metadata": {},
   "outputs": [],
   "source": [
    "\n",
    "# winningstocks_regressionlist = []\n",
    "\n",
    "# del winningstocks_regression\n",
    "# del winningstocks_regressionlist\n",
    "\n",
    "# winningstocks_regressionlist"
   ]
  },
  {
   "cell_type": "markdown",
   "metadata": {},
   "source": [
    "### Calculate Regression Lines For each Top 10 Runner-Up Stock: \n",
    "##### - Calculate regression lines for eah for the Runner-Up Stocks, save regression line data points to DataFrame, then export DataFrame to csv"
   ]
  },
  {
   "cell_type": "code",
   "execution_count": 42,
   "metadata": {},
   "outputs": [
    {
     "name": "stdout",
     "output_type": "stream",
     "text": [
      "AZO\n",
      "BKNG\n",
      "CHTR\n",
      "CMG\n",
      "EQIX\n",
      "GOOG\n",
      "GOOGL\n",
      "ISRG\n",
      "MTD\n",
      "PAYC\n"
     ]
    }
   ],
   "source": [
    "## Regression Lines For each Top 10 Runner-Up Stock\n",
    "for file in Path(folder).glob(\"*.csv\"):\n",
    "    try:\n",
    "        file_name = str(file).replace('.csv','').replace('resources\\\\data_history_stocks\\\\','')\n",
    "        if file_name in runnerupstocks_tickerlist:\n",
    "            print(file_name)\n",
    "            runnerupstocks_regloop_df = pd.read_csv(file)\n",
    "            runnerupstocks_regloop_df.rename(columns={\"Unnamed: 0\": \"Day Number\", \n",
    "                                                      \"Date\": \"Date\", \n",
    "                                                      \"Close\": \"Price\"}, inplace = True)\n",
    "            ## Use linear regression to find slope, y intercept, and regression of historical market data\n",
    "            runnerupstocks_model = LinearRegression()\n",
    "            runnerupstocks_model.fit(np.array(runnerupstocks_regloop_df[\"Day Number\"]).reshape(-1,1), runnerupstocks_regloop_df[\"Price\"])\n",
    "            runnerupstocks_slope = runnerupstocks_model.coef_\n",
    "            runnerupstocks_intercept = runnerupstocks_model.intercept_\n",
    "            runnerupstocks_score = runnerupstocks_model.score(np.array(runnerupstocks_regloop_df[\"Day Number\"]).reshape(-1,1), runnerupstocks_regloop_df[\"Price\"])\n",
    "            file_name = str(file).replace(\".csv\",\"\").replace(\"resources\\\\data_history_stocks\\\\\",\"\")\n",
    "            \n",
    "            ## Calculate regression line of stocks\n",
    "            ## Append all stock results to lists\n",
    "            runnerupstocks_regression = [runnerupstocks_slope * day + runnerupstocks_intercept for day in runnerupstocks_regloop_df[\"Day Number\"]]\n",
    "            runnerupstocks_regressionlist.append({\"Stock\": file_name, \"Slope\": runnerupstocks_slope, \"Y-intercept\": runnerupstocks_intercept, \"Score\": runnerupstocks_score})\n",
    "           # all_stocks_list.append({\"Stock\": file_name})\n",
    "            #all_stocks_list.append(file_name)\n",
    "            \n",
    "            ## Winning_Stocks Regression DataFrame, export as CSV file\n",
    "            runnerupstocks_reg_raw_df = pd.DataFrame(runnerupstocks_regression)\n",
    "            runnerupstocks_reg_raw_df.to_csv(f\"resources/data_results/scratch/run_stock_reg_raw_df_{file_name}.csv\")\n",
    "            runnerupstocks_reg_raw_path = f\"resources/data_results/scratch/run_stock_reg_raw_df_{file_name}.csv\"\n",
    "            runnerupstocks_reg_df = pd.read_csv(runnerupstocks_reg_raw_path)\n",
    "            del runnerupstocks_reg_df['Unnamed: 0']\n",
    "            runnerupstocks_reg_df.rename(columns={\"0\": \"Regression\"}, inplace = True)\n",
    "            runnerupstocks_reg_df.to_csv(f\"resources/data_results/runnerup_stocks/{file_name}_regression.csv\")\n",
    "        else:\n",
    "            pass\n",
    "    except Exception as e:\n",
    "        error_log.write(str(file))\n",
    "        error_log.write(str(e))\n",
    "        error_log.write(\"\")\n",
    "        error_count += 1\n",
    "\n",
    "   "
   ]
  },
  {
   "cell_type": "markdown",
   "metadata": {},
   "source": [
    "### Calculate Regression Lines For each Bottom 10 Worst Stock: \n",
    "##### - Calculate regression lines for eah for the Worst Stocks, save regression line data points to DataFrame, then export DataFrame to csv"
   ]
  },
  {
   "cell_type": "code",
   "execution_count": 46,
   "metadata": {},
   "outputs": [
    {
     "name": "stdout",
     "output_type": "stream",
     "text": [
      "APA\n",
      "DVN\n",
      "IBM\n",
      "KHC\n",
      "MOS\n",
      "NOV\n",
      "OXY\n",
      "PRGO\n",
      "RL\n",
      "SLB\n"
     ]
    }
   ],
   "source": [
    "## Regression Lines For each Bottom 10 Worst Stock\n",
    "for file in Path(folder).glob(\"*.csv\"):\n",
    "    try:\n",
    "        file_name = str(file).replace('.csv','').replace('resources\\\\data_history_stocks\\\\','')\n",
    "        if file_name in worststocks_tickerlist:\n",
    "            print(file_name)\n",
    "            worststocks_regloop_df = pd.read_csv(file)\n",
    "            worststocks_regloop_df.rename(columns={\"Unnamed: 0\": \"Day Number\", \n",
    "                                                   \"Date\": \"Date\", \n",
    "                                                   \"Close\": \"Price\"}, inplace = True)\n",
    "            ## Use linear regression to find slope, y intercept, and regression of historical market data\n",
    "            worststocks_model = LinearRegression()\n",
    "            worststocks_model.fit(np.array(worststocks_regloop_df[\"Day Number\"]).reshape(-1,1), worststocks_regloop_df[\"Price\"])\n",
    "            worststocks_slope = worststocks_model.coef_\n",
    "            worststocks_intercept = worststocks_model.intercept_\n",
    "            worststocks_score = worststocks_model.score(np.array(worststocks_regloop_df[\"Day Number\"]).reshape(-1,1), worststocks_regloop_df[\"Price\"])\n",
    "            file_name = str(file).replace(\".csv\",\"\").replace(\"resources\\\\data_history_stocks\\\\\",\"\")\n",
    "            \n",
    "            ## Calculate regression line of stocks\n",
    "            ## Append all stock results to lists\n",
    "            worststocks_regression = [worststocks_slope * day + worststocks_intercept for day in worststocks_regloop_df[\"Day Number\"]]\n",
    "            worststocks_regressionlist.append({\"Stock\": file_name, \"Slope\": worststocks_slope, \"Y-intercept\": worststocks_intercept, \"Score\": worststocks_score})\n",
    "           # all_stocks_list.append({\"Stock\": file_name})\n",
    "            #all_stocks_list.append(file_name)\n",
    "            \n",
    "            ## Winning_Stocks Regression DataFrame, export as CSV file\n",
    "            worststocks_reg_raw_df = pd.DataFrame(worststocks_regression)\n",
    "            worststocks_reg_raw_df.to_csv(f\"resources/data_results/scratch/worst_stock_reg_raw_df_{file_name}.csv\")\n",
    "            worststocks_reg_raw_path = f\"resources/data_results/scratch/worst_stock_reg_raw_df_{file_name}.csv\"\n",
    "            worststocks_reg_df = pd.read_csv(worststocks_reg_raw_path)\n",
    "            del worststocks_reg_df['Unnamed: 0']\n",
    "            worststocks_reg_df.rename(columns={\"0\": \"Regression\"}, inplace = True)\n",
    "            worststocks_reg_df.to_csv(f\"resources/data_results/worst_stocks/{file_name}_regression.csv\")\n",
    "        else:\n",
    "            pass\n",
    "    except Exception as e:\n",
    "        error_log.write(str(file))\n",
    "        error_log.write(str(e))\n",
    "        error_log.write(\"\")\n",
    "        error_count += 1\n"
   ]
  },
  {
   "cell_type": "code",
   "execution_count": 47,
   "metadata": {},
   "outputs": [
    {
     "name": "stdout",
     "output_type": "stream",
     "text": [
      "AMZN: slope = [1.10484758]: y-intercept = -424.40585197869973 score = 0.8204691023769453\n"
     ]
    }
   ],
   "source": [
    "### testing to make sure for loop is correctly calculating regression for each winning stock\n",
    "## Create path to historical AMZN stock data\n",
    "AMZN_file = \"resources/data_history_stocks/AMZN.csv\"\n",
    "AMZN_df = pd.read_csv(AMZN_file)\n",
    "AMZN_df.rename(columns={\"Unnamed: 0\": \"Day Number\", \n",
    "                         \"Date\": \"Date\", \n",
    "                         \"Close\": \"Price\"}, inplace = True)\n",
    "## Use linear regression to find slope and y intercept of AMZN data\n",
    "AMZN_model = LinearRegression()\n",
    "AMZN_model.fit(np.array(AMZN_df[\"Day Number\"]).reshape(-1,1), AMZN_df[\"Price\"])\n",
    "AMZN_slope = AMZN_model.coef_\n",
    "AMZN_intercept = AMZN_model.intercept_\n",
    "AMZN_score = AMZN_model.score(np.array(AMZN_df[\"Day Number\"]).reshape(-1,1), AMZN_df[\"Price\"])\n",
    "AMZN_file_name = str(AMZN_file).replace(\"AMZN\", \"AMZN\").replace(\".csv\",\"\").replace(\"resources/data_history_stocks/\",\"\")\n",
    "print(f\"{AMZN_file_name}: slope = {AMZN_slope}: y-intercept = {AMZN_intercept} score = {AMZN_score}\")"
   ]
  },
  {
   "cell_type": "code",
   "execution_count": 44,
   "metadata": {},
   "outputs": [
    {
     "name": "stdout",
     "output_type": "stream",
     "text": [
      "Encountered 7 errors\n"
     ]
    }
   ],
   "source": [
    "error_log.close()\n",
    "print(f\"Encountered {error_count} errors\")"
   ]
  },
  {
   "cell_type": "code",
   "execution_count": null,
   "metadata": {},
   "outputs": [],
   "source": [
    "#### Need to format/cleanup the graphs to look professional before exporting to image files\n",
    "#### Need graphs and export graphs as images for: winning stocks, worst stocks, and runnerup stocks"
   ]
  }
 ],
 "metadata": {
  "kernelspec": {
   "display_name": "Python 3",
   "language": "python",
   "name": "python3"
  },
  "language_info": {
   "codemirror_mode": {
    "name": "ipython",
    "version": 3
   },
   "file_extension": ".py",
   "mimetype": "text/x-python",
   "name": "python",
   "nbconvert_exporter": "python",
   "pygments_lexer": "ipython3",
   "version": "3.8.5"
  }
 },
 "nbformat": 4,
 "nbformat_minor": 4
}
