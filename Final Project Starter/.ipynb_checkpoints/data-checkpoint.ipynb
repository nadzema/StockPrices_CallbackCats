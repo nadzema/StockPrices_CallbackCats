{
 "cells": [
  {
   "cell_type": "code",
   "execution_count": 1,
   "metadata": {},
   "outputs": [],
   "source": [
    "## Import dependencies\n",
    "import pandas as pd \n",
    "import numpy as np\n",
    "import os\n",
    "import time\n",
    "from datetime import datetime"
   ]
  },
  {
   "cell_type": "markdown",
   "metadata": {},
   "source": [
    "## Grab historical stock data from html files"
   ]
  },
  {
   "cell_type": "code",
   "execution_count": 2,
   "metadata": {},
   "outputs": [],
   "source": [
    "## Path to data files\n",
    "path = \"intraQuarter\""
   ]
  },
  {
   "cell_type": "code",
   "execution_count": 3,
   "metadata": {},
   "outputs": [],
   "source": [
    "## Define function to grab stock list\n",
    "def Key_Stats(gather=\"Total Debt/Equity (mrq)\"):\n",
    "    ## Grab list of directories for stocks - #print(stock_list) prints list of directories\n",
    "    statspath = path+\"/_KeyStats\"\n",
    "    stock_list = [x[0] for x in os.walk(statspath)]\n",
    "    stock_df = pd.DataFrame(columns = [\"Date\", \"Unix\", \"Ticker\", \"DE Ratio\"])\n",
    "    #print(stock_list)\n",
    "    \n",
    "    ## Get each file name in each stock directory\n",
    "    ## Use [1:] because we do not need the root directory(main folder)\n",
    "    for each_directory in stock_list[1:]:  \n",
    "        each_file = os.listdir(each_directory)\n",
    "        ticker = each_directory.split(\"\\\\\")[1]\n",
    "        #print(each_file)\n",
    "        if len(each_file) > 0:\n",
    "            for file in each_file:\n",
    "                ## Begin to pull data on the file\n",
    "                date_stamp = datetime.strptime(file, \"%Y%m%d%H%M%S.html\")\n",
    "                unix_time = time.mktime(date_stamp.timetuple())\n",
    "                #print(date_stamp, unix_time)\n",
    "                ## Open each stock file in _KeyStats folder\n",
    "                full_file_path = each_directory + \"/\" + file\n",
    "                #print(full_file_path)\n",
    "                source = open(full_file_path, \"r\").read()\n",
    "                ## Need to format all the source str code the same, some HTML files have a break after :</td> and some do not\n",
    "                source_format = source.replace('\\n','')\n",
    "                ## Isolate the value we need by splitting the entire formatted HTML source code before and after the value we need\n",
    "                try:\n",
    "                    value = source_format.split(gather + ':</td><td class=\"yfnc_tabledata1\">')[1].split('</td>')[0]\n",
    "                    #print(ticker + \":\", value)\n",
    "                    ## Append data to dataframe \n",
    "                    stock_df = stock_df.append({\"Date\": date_stamp, \"Unix\": unix_time, \"Ticker\": ticker, \"DE Ratio\": value}, ignore_index = True)\n",
    "                except Exception as e:\n",
    "                    pass\n",
    "    save = gather.replace(\" \", \"\").replace(\")\", \"\").replace(\"(\", \"\").replace(\"/\", \"\") + (\".csv\")\n",
    "    print(save)\n",
    "    stock_df.to_csv(save)"
   ]
  },
  {
   "cell_type": "code",
   "execution_count": 4,
   "metadata": {},
   "outputs": [
    {
     "name": "stdout",
     "output_type": "stream",
     "text": [
      "TotalDebtEquitymrq.csv\n"
     ]
    }
   ],
   "source": [
    "## Run function to grab specific data from html files and put into CSV\n",
    "Key_Stats()"
   ]
  },
  {
   "cell_type": "code",
   "execution_count": null,
   "metadata": {},
   "outputs": [],
   "source": []
  }
 ],
 "metadata": {
  "kernelspec": {
   "display_name": "Python 3",
   "language": "python",
   "name": "python3"
  },
  "language_info": {
   "codemirror_mode": {
    "name": "ipython",
    "version": 3
   },
   "file_extension": ".py",
   "mimetype": "text/x-python",
   "name": "python",
   "nbconvert_exporter": "python",
   "pygments_lexer": "ipython3",
   "version": "3.8.5"
  }
 },
 "nbformat": 4,
 "nbformat_minor": 4
}
